{
 "metadata": {
  "orig_nbformat": 4,
  "kernelspec": {
   "display_name": "Python 3",
   "language": "python",
   "name": "python3"
  },
  "hex_info": {
   "author": null,
   "project_id": "ecc29b29-68bc-4b89-a799-7ddadae90db9",
   "version": "draft",
   "exported_date": "Tue Oct 22 2024 19:47:18 GMT+0000 (Coordinated Universal Time)"
  }
 },
 "nbformat_minor": 4,
 "nbformat": 4,
 "cells": [
  {
   "cell_type": "markdown",
   "id": "44934501-6dc5-4f4f-89d2-b91e1a505db7",
   "metadata": {
    "name": "cell1",
    "collapsed": false,
    "resultHeight": 173
   },
   "source": "# Readmissions 2: Feature engineering and predictive modeling\n## Using Snowpark ML for feature engineering and predictive modeling"
  },
  {
   "cell_type": "markdown",
   "source": "### Import packages for our notebook\n\n",
   "metadata": {
    "name": "cell12",
    "resultHeight": 46
   },
   "id": "ce110000-1111-2222-3333-ffffff000011"
  },
  {
   "cell_type": "markdown",
   "id": "07724306-f4ad-4ebe-97a6-9fddced2d643",
   "metadata": {
    "name": "cell10",
    "collapsed": false,
    "resultHeight": 175
   },
   "source": "##### Packages to add to notebook from Packages dropdown in top right:\nseaborn \\\nplotly \\\nsnowflake-ml-python \\\nshap \\\n"
  },
  {
   "cell_type": "code",
   "source": "# Import Python packages\nimport pandas as pd\nimport numpy as np\nfrom itertools import combinations\nimport seaborn as sns\nimport os\nimport plotly.express as px\nimport json\nimport sys\n\n# Import Snowflake modules\nfrom snowflake.snowpark import Session \nimport snowflake.snowpark.functions as F \nimport snowflake.snowpark.types as T\nfrom snowflake.snowpark import Window\nfrom snowflake.snowpark.functions import col\n\n\n# Pandas Tools\nfrom snowflake.connector.pandas_tools import write_pandas\n\n# create_temp_table warning suppresion\nimport warnings; warnings.simplefilter('ignore')\n\nfrom snowflake.snowpark.context import get_active_session\nsession = get_active_session()\n",
   "metadata": {
    "name": "cell13",
    "language": "python",
    "collapsed": false,
    "resultHeight": 0
   },
   "execution_count": null,
   "outputs": [],
   "id": "ce110000-1111-2222-3333-ffffff000012"
  },
  {
   "cell_type": "markdown",
   "source": "### Create our Snowpark session\n\n",
   "metadata": {
    "name": "cell14",
    "collapsed": false,
    "resultHeight": 46
   },
   "id": "ce110000-1111-2222-3333-ffffff000013"
  },
  {
   "cell_type": "code",
   "source": "session.use_role('datasci')\nsession.use_database('analytics')\nsession.use_warehouse('datasci_wh')\nsession.use_schema('readmit')\nprint(session.sql(\"select current_role(), current_warehouse(), current_database(), current_schema(), current_region(), current_client()\").collect())",
   "metadata": {
    "name": "cell15",
    "language": "python",
    "resultHeight": 44,
    "collapsed": false
   },
   "execution_count": null,
   "outputs": [
    {
     "data": {
      "text/plain": "[Row(CURRENT_ROLE()='DATASCI', CURRENT_WAREHOUSE()='DATASCI_WH', CURRENT_DATABASE()='ANALYTICS', CURRENT_SCHEMA()='READMIT', CURRENT_REGION()='PUBLIC.AWS_US_WEST_2', CURRENT_CLIENT()='PythonSnowpark 1.11.1')]\n"
     },
     "execution_count": null,
     "metadata": {},
     "output_type": "execute_result"
    }
   ],
   "id": "ce110000-1111-2222-3333-ffffff000014"
  },
  {
   "cell_type": "markdown",
   "source": "### Inspect the data in a Snowpark dataframe\n\n",
   "metadata": {
    "name": "cell16",
    "resultHeight": 46
   },
   "id": "ce110000-1111-2222-3333-ffffff000015"
  },
  {
   "cell_type": "code",
   "source": "readmissions_df=session.table('readmissions_enriched').drop('ADMIT_DATE')\nreadmissions_df.sample(n=10).show()",
   "metadata": {
    "name": "cell17",
    "language": "python",
    "collapsed": false,
    "resultHeight": 351
   },
   "execution_count": null,
   "outputs": [
    {
     "data": {
      "text/plain": "----------------------------------------------------------------------------------------------------------------------------------------------------------------------------------------------------------------------------------------------------------------------------------------------------------------------------------------------------------------------------------------------------------------------------------------------------------------------------------------------------------------------------------------------------------------------------------------------------------------------------------------------------------------------------------------------------------------------------------------------------------------------------------------------------------------------------------------------\n|\"CITY_LAT\"  |\"CITY_LONG\"  |\"HOSPITAL_LAT\"  |\"HOSPITAL_LONG\"  |\"HOSPITAL_NAME\"                                    |\"HOSPITAL_STATE\"  |\"DIAGNOSIS\"  |\"PATIENT_NUMBER\"  |\"DV_READMIT_FLAG\"  |\"ADMIT_DATE\"  |\"LENGTH_OF_STAY\"  |\"PRIOR_IP_ADMITS\"  |\"CHRONIC_CONDITIONS_NUMBER\"  |\"PATIENT_AGE\"  |\"ORDER_SET_USED\"  |\"HOSPITAL_ID\"  |\"HOSPITAL_ADDRESS\"        |\"HOSPITAL_CITY\"  |\"HOSPITAL_ZIP_CODE\"  |\"HOSPITAL_COUNTY_NAME\"  |\"HOSPITAL_REGION\"  |\"NPI\"       |\"TOTAL_CHARGES\"  |\"DISCHARGE_NOTES\"     |\"PATIENT_GENDER\"  |\"URBAN_CLASS\"  |\"MARITAL_STATUS\"  |\"SDOH_FLAG\"  |\"HIGH_NA_AT_DISCHARGE\"  |\"BMI\"  |\"CITY\"        |\"STATE\"  |\"POSTCODE\"  |\"ADDRESS\"                       |\"PATIENT_ID\"  |\"PATIENT_LON\"  |\"PATIENT_LAT\"  |\"CONTACT_PREFERENCE\"  |\"EMAIL\"                                             |\"PHONE\"        |\"SBUX_COUNT\"  |\n----------------------------------------------------------------------------------------------------------------------------------------------------------------------------------------------------------------------------------------------------------------------------------------------------------------------------------------------------------------------------------------------------------------------------------------------------------------------------------------------------------------------------------------------------------------------------------------------------------------------------------------------------------------------------------------------------------------------------------------------------------------------------------------------------------------------------------------------\n|28.23333    |-82.18139    |28.23333        |-82.18139        |FLORIDA HOSPITAL ZEPHYRHILLS                       |FL                |AMI          |6286015239        |0                  |2014-04-02    |5                 |5                  |2                            |48             |0                 |1127           |7050 GALL BLVD            |ZEPHYRHILLS      |33541                |PASCO                   |SE                 |1295159440  |16295.58         |ROUTINE DSCHG, HOME   |M                 |U              |Y                 |N            |N                       |27.0   |ZEPHYRHILLS   |FL       |33540       |1033      GRANT RD              |6286015239    |-82.1644624    |28.1723157     |email                 |6286015239@FLORIDA HOSPITAL ZEPHYRHILLS.com         |(546)257-2382  |NULL          |\n|35.53333    |-82.91083    |35.53333        |-82.91083        |HAYWOOD REGIONAL MEDICAL CENTER                    |NC                |AMI          |6056738829        |0                  |2015-10-11    |4                 |5                  |2                            |54             |0                 |9709           |262 LEROY GEORGE DRIVE    |CLYDE            |28721                |HAYWOOD                 |SE                 |1245220573  |13113.36         |ROUTINE DSCHG, HOME   |M                 |U              |Y                 |N            |N                       |13.4   |CLYDE         |NC       |28721       |116       BAREFOOT RIDGE        |6056738829    |-82.9146072    |35.5257341     |phone                 |6056738829@HAYWOOD REGIONAL MEDICAL CENTER.com      |(376)980-0485  |NULL          |\n|40.80417    |-74.0125     |40.80417        |-74.0125         |PALISADES MEDICAL CENTER                           |NJ                |HF           |8943306603        |0                  |2014-01-07    |2                 |4                  |2                            |53             |0                 |6576           |7600 RIVER RD             |NORTH BERGEN     |7047                 |HUDSON                  |NE                 |1205817277  |13405.0          |DSCHG TO HOME HEALTH  |F                 |R              |N                 |N            |Y                       |25.3   |NORTH BERGEN  |NJ       |7047        |6911      Durham Avenue         |8943306603    |-74.017562     |40.7983939     |text                  |8943306603@PALISADES MEDICAL CENTER.com             |(270)272-7176  |NULL          |\n|39.20889    |-76.06694    |39.20889        |-76.06694        |UNIVERSITY OF MD SHORE MEDICAL CTR AT CHESTERTOWN  |MD                |HIP/KNEE     |4573493420        |1                  |2013-08-21    |12                |3                  |1                            |58             |1                 |3274           |100 BROWN STREET          |CHESTERTOWN      |21620                |KENT                    |NE                 |1841273745  |27845.0          |ROUTINE DSCHG, HOME   |M                 |U              |Y                 |N            |N                       |23.8   |CHESTERTOWN   |MD       |21620       |101       ACORN DR              |4573493420    |-76.0675127    |39.2270459     |phone                 |4573493420@UNIVERSITY OF MD SHORE MEDICAL CTR A...  |(701)988-7452  |NULL          |\n|35.77194    |-78.63889    |35.77194        |-78.63889        |WAKEMED, RALEIGH CAMPUS                            |NC                |PN           |5601034935        |1                  |2015-08-03    |9                 |3                  |2                            |60             |0                 |1138           |3000 NEW BERN AVE         |RALEIGH          |27610                |WAKE                    |SE                 |1700877677  |12989.16         |ROUTINE DSCHG, HOME   |M                 |U              |Y                 |N            |N                       |26.6   |RALEIGH       |NC       |27610       |116       WEST JONES ST         |5601034935    |-79.3947837    |35.140816      |email                 |5601034935@WAKEMED, RALEIGH CAMPUS.com              |(180)695-3149  |1             |\n|41.13056    |-85.12889    |41.13056        |-85.12889        |ORTHOPAEDIC HOSPITAL AT PARKVIEW NORTH LLC         |IN                |HF           |4938519227        |1                  |2015-01-20    |0                 |4                  |3                            |91             |1                 |9503           |11130 PARKVIEW CIRCLE DR  |FORT WAYNE       |46845                |ALLEN                   |CE                 |1255683165  |15015.0          |ROUTINE DSCHG, HOME   |M                 |U              |Y                 |N            |N                       |21.7   |FORT WAYNE    |IN       |46845       |5949      S LEGACY  COURT       |4938519227    |-85.3493375    |41.0791976     |email                 |4938519227@ORTHOPAEDIC HOSPITAL AT PARKVIEW NOR...  |(634)156-7873  |NULL          |\n|39.64778    |-104.98722   |39.64778        |-104.98722       |SWEDISH MEDICAL CENTER                             |CO                |HIP/KNEE     |1384749944        |1                  |2015-07-30    |10                |4                  |1                            |77             |1                 |8207           |501 E HAMPDEN AVENUE      |ENGLEWOOD        |80113                |ARAPAHOE                |SW                 |1750425526  |26962.6          |ROUTINE DSCHG, HOME   |M                 |U              |Y                 |N            |N                       |18.4   |ENGLEWOOD     |CO       |80110       |3037      West Saratoga Avenue  |1384749944    |-105.0262886   |39.6291933     |phone                 |1384749944@SWEDISH MEDICAL CENTER.com               |(000)021-9035  |4             |\n|40.91667    |-74.17222    |40.91667        |-74.17222        |ST JOSEPH'S REGIONAL MEDICAL CENTER                |NJ                |COPD         |9160408033        |0                  |2013-08-23    |3                 |5                  |2                            |59             |1                 |9258           |703 MAIN ST               |PATERSON         |7503                 |PASSAIC                 |NE                 |1437593282  |12408.75         |ROUTINE DSCHG, HOME   |M                 |U              |Y                 |N            |N                       |21.7   |PATERSON      |NJ       |7501        |203       12th Avenue           |9160408033    |-74.1565484    |40.9213342     |email                 |9160408033@ST JOSEPH'S REGIONAL MEDICAL CENTER.com  |(956)530-7421  |NULL          |\n|39.57528    |-76.99611    |39.57528        |-76.99611        |CARROLL HOSPITAL CENTER                            |MD                |HIP/KNEE     |7947415038        |0                  |2014-04-12    |4                 |4                  |2                            |72             |1                 |9651           |200 MEMORIAL AVENUE       |WESTMINSTER      |21157                |CARROLL                 |NE                 |1578598611  |21780.0          |ROUTINE DSCHG, HOME   |M                 |U              |Y                 |N            |N                       |28.1   |WESTMINSTER   |MD       |21157       |194       ADELINE DR            |7947415038    |-77.0020913    |39.5697844     |email                 |7947415038@CARROLL HOSPITAL CENTER.com              |(165)784-5923  |2             |\n|28.555      |-82.38806    |28.555          |-82.38806        |OAK HILL HOSPITAL                                  |FL                |HIP/KNEE     |1127409535        |1                  |2014-05-18    |12                |5                  |1                            |63             |1                 |808            |11375 CORTEZ BLVD         |BROOKSVILLE      |34613                |HERNANDO                |SE                 |1023067667  |26550.72         |ROUTINE DSCHG, HOME   |M                 |U              |Y                 |N            |N                       |19.6   |BROOKSVILLE   |FL       |34601       |12046     TIMBER LN             |1127409535    |-82.3814715    |28.5987692     |text                  |1127409535@OAK HILL HOSPITAL.com                    |(835)125-0975  |NULL          |\n----------------------------------------------------------------------------------------------------------------------------------------------------------------------------------------------------------------------------------------------------------------------------------------------------------------------------------------------------------------------------------------------------------------------------------------------------------------------------------------------------------------------------------------------------------------------------------------------------------------------------------------------------------------------------------------------------------------------------------------------------------------------------------------------------------------------------------------------\n\n"
     },
     "execution_count": null,
     "metadata": {},
     "output_type": "execute_result"
    }
   ],
   "id": "ce110000-1111-2222-3333-ffffff000016"
  },
  {
   "cell_type": "markdown",
   "source": "### How large is the Snowpark dataframe in the Python runtime?\n\n",
   "metadata": {
    "name": "cell18",
    "resultHeight": 46
   },
   "id": "ce110000-1111-2222-3333-ffffff000017"
  },
  {
   "cell_type": "code",
   "source": "import sys\nsnowpark_size = sys.getsizeof(readmissions_df) / (1024*1024)\nprint(f\"Snowpark DataFrame Size (snowpark_df): {snowpark_size:.2f} MB\")",
   "metadata": {
    "name": "cell19",
    "language": "python",
    "resultHeight": 38,
    "collapsed": false
   },
   "execution_count": null,
   "outputs": [
    {
     "data": {
      "text/plain": "Snowpark DataFrame Size (snowpark_df): 0.00 MB\n"
     },
     "execution_count": null,
     "metadata": {},
     "output_type": "execute_result"
    }
   ],
   "id": "ce110000-1111-2222-3333-ffffff000018"
  },
  {
   "cell_type": "markdown",
   "source": "### Explore Snowpark Dataframe API\n\n",
   "metadata": {
    "name": "cell20",
    "resultHeight": 46
   },
   "id": "ce110000-1111-2222-3333-ffffff000019"
  },
  {
   "cell_type": "code",
   "source": "co_df = readmissions_df.filter(F.col(\"HOSPITAL_STATE\") == 'CO').order_by([\"DV_READMIT_FLAG\", \"DIAGNOSIS\"], ascending=[0, 0])\nco_df.explain()",
   "metadata": {
    "name": "cell21",
    "language": "python",
    "resultHeight": 357,
    "collapsed": false
   },
   "execution_count": null,
   "outputs": [
    {
     "data": {
      "text/plain": "---------DATAFRAME EXECUTION PLAN----------\nQuery List:\n1.\nSELECT  *  FROM readmissions_enriched WHERE (\"HOSPITAL_STATE\" = 'NJ') ORDER BY \"DV_READMIT_FLAG\" DESC NULLS LAST, \"DIAGNOSIS\" DESC NULLS LAST\nLogical Execution Plan:\nGlobalStats:\n    partitionsTotal=1\n    partitionsAssigned=1\n    bytesAssigned=5365760\nOperations:\n1:0     ->Result  READMISSIONS_ENRICHED.CITY_LAT, READMISSIONS_ENRICHED.CITY_LONG, READMISSIONS_ENRICHED.HOSPITAL_LAT, READMISSIONS_ENRICHED.HOSPITAL_LONG, READMISSIONS_ENRICHED.HOSPITAL_NAME, READMISSIONS_ENRICHED.HOSPITAL_STATE, READMISSIONS_ENRICHED.DIAGNOSIS, READMISSIONS_ENRICHED.PATIENT_NUMBER, READMISSIONS_ENRICHED.DV_READMIT_FLAG, READMISSIONS_ENRICHED.ADMIT_DATE, READMISSIONS_ENRICHED.LENGTH_OF_STAY, READMISSIONS_ENRICHED.PRIOR_IP_ADMITS, READMISSIONS_ENRICHED.CHRONIC_CONDITIONS_NUMBER, READMISSIONS_ENRICHED.PATIENT_AGE, READMISSIONS_ENRICHED.ORDER_SET_USED, READMISSIONS_ENRICHED.HOSPITAL_ID, READMISSIONS_ENRICHED.HOSPITAL_ADDRESS, READMISSIONS_ENRICHED.HOSPITAL_CITY, READMISSIONS_ENRICHED.HOSPITAL_ZIP_CODE, READMISSIONS_ENRICHED.HOSPITAL_COUNTY_NAME, READMISSIONS_ENRICHED.HOSPITAL_REGION, READMISSIONS_ENRICHED.NPI, READMISSIONS_ENRICHED.TOTAL_CHARGES, READMISSIONS_ENRICHED.DISCHARGE_NOTES, READMISSIONS_ENRICHED.PATIENT_GENDER, READMISSIONS_ENRICHED.URBAN_CLASS, READMISSIONS_ENRICHED.MARITAL_STATUS, READMISSIONS_ENRICHED.SDOH_FLAG, READMISSIONS_ENRICHED.HIGH_NA_AT_DISCHARGE, READMISSIONS_ENRICHED.BMI, READMISSIONS_ENRICHED.CITY, READMISSIONS_ENRICHED.STATE, READMISSIONS_ENRICHED.POSTCODE, READMISSIONS_ENRICHED.ADDRESS, READMISSIONS_ENRICHED.PATIENT_ID, READMISSIONS_ENRICHED.PATIENT_LON, READMISSIONS_ENRICHED.PATIENT_LAT, READMISSIONS_ENRICHED.CONTACT_PREFERENCE, READMISSIONS_ENRICHED.EMAIL, READMISSIONS_ENRICHED.PHONE, READMISSIONS_ENRICHED.SBUX_COUNT  \n1:1          ->Sort  READMISSIONS_ENRICHED.DV_READMIT_FLAG DESC NULLS LAST, READMISSIONS_ENRICHED.DIAGNOSIS DESC NULLS LAST  \n1:2               ->Filter  READMISSIONS_ENRICHED.HOSPITAL_STATE = 'NJ'  \n1:3                    ->TableScan  ANALYTICS.READMIT.READMISSIONS_ENRICHED  CITY_LAT, CITY_LONG, HOSPITAL_LAT, HOSPITAL_LONG, HOSPITAL_NAME, HOSPITAL_STATE, DIAGNOSIS, PATIENT_NUMBER, DV_READMIT_FLAG, ADMIT_DATE, LENGTH_OF_STAY, PRIOR_IP_ADMITS, CHRONIC_CONDITIONS_NUMBER, PATIENT_AGE, ORDER_SET_USED, HOSPITAL_ID, HOSPITAL_ADDRESS, HOSPITAL_CITY, HOSPITAL_ZIP_CODE, HOSPITAL_COUNTY_NAME, HOSPITAL_REGION, NPI, TOTAL_CHARGES, DISCHARGE_NOTES, PATIENT_GENDER, URBAN_CLASS, MARITAL_STATUS, SDOH_FLAG, HIGH_NA_AT_DISCHARGE, BMI, CITY, STATE, POSTCODE, ADDRESS, PATIENT_ID, PATIENT_LON, PATIENT_LAT, CONTACT_PREFERENCE, EMAIL, PHONE, SBUX_COUNT  {partitionsTotal=1, partitionsAssigned=1, bytesAssigned=5365760}\n\n--------------------------------------------\n"
     },
     "execution_count": null,
     "metadata": {},
     "output_type": "execute_result"
    }
   ],
   "id": "ce110000-1111-2222-3333-ffffff000020"
  },
  {
   "cell_type": "markdown",
   "source": "### Explore columns for modeling\n\n",
   "metadata": {
    "name": "cell22",
    "resultHeight": 46,
    "collapsed": false
   },
   "id": "ce110000-1111-2222-3333-ffffff000021"
  },
  {
   "cell_type": "code",
   "source": "missing_check = readmissions_df.select(\"PATIENT_AGE\", \"BMI\", \"LENGTH_OF_STAY\", \"ORDER_SET_USED\", \"CHRONIC_CONDITIONS_NUMBER\",  \"SBUX_COUNT\", \"DV_READMIT_FLAG\", \"HOSPITAL_NAME\")\n\n#Inspect columns for missing values and replace null values with 0\ncolumn_names=missing_check.columns\nfor i in column_names:\n    print('Column',i,'has',missing_check.filter(col(i).isNull()).count(),'missing values!')",
   "metadata": {
    "name": "cell23",
    "language": "python",
    "resultHeight": 195,
    "collapsed": false
   },
   "execution_count": null,
   "outputs": [
    {
     "data": {
      "text/plain": "Column PATIENT_AGE has 0 missing values!\nColumn BMI has 0 missing values!\nColumn LENGTH_OF_STAY has 0 missing values!\nColumn ORDER_SET_USED has 0 missing values!\nColumn CHRONIC_CONDITIONS_NUMBER has 0 missing values!\nColumn SBUX_COUNT has 0 missing values!\nColumn DV_READMIT_FLAG has 0 missing values!\nColumn HOSPITAL_NAME has 0 missing values!\nColumn HOSPITAL_LAT has 949 missing values!\nColumn HOSPITAL_LONG has 949 missing values!\n"
     },
     "execution_count": null,
     "metadata": {},
     "output_type": "execute_result"
    }
   ],
   "id": "ce110000-1111-2222-3333-ffffff000022"
  },
  {
   "cell_type": "code",
   "id": "f29eefca-6913-4aa3-898e-d42c48eec8a4",
   "metadata": {
    "language": "python",
    "name": "cell5",
    "resultHeight": 3417
   },
   "outputs": [],
   "source": "import streamlit as st\n\nfeature_cols = [\"PATIENT_AGE\",'BMI','LENGTH_OF_STAY','PRIOR_IP_ADMITS','CHRONIC_CONDITIONS_NUMBER', 'SBUX_COUNT'] \ndf = readmissions_df[feature_cols].to_pandas()\n\nnumeric_cols = df.select_dtypes(include='number').columns\n\nfor col in numeric_cols:\n    st.subheader(f'Histogram for {col}')\n    fig = px.histogram(readmissions_df, x=col, title=f'Histogram of {col}', \n                       nbins=10, opacity=0.75)\n    fig.update_layout(width=700, height=500)  \n    st.plotly_chart(fig, use_container_width=False)  \n",
   "execution_count": null
  },
  {
   "cell_type": "code",
   "id": "bde650e4-ecd4-4ca5-a651-2b05f7c71d22",
   "metadata": {
    "language": "python",
    "name": "cell7",
    "resultHeight": 71,
    "collapsed": false
   },
   "outputs": [],
   "source": "import plotly.express as px\n\ngraph_data=readmissions_df['DIAGNOSIS', 'DV_READMIT_FLAG'].to_pandas()\ngrouped_data = graph_data.groupby(['DIAGNOSIS', 'DV_READMIT_FLAG']).size().reset_index(name='count')\n\n# Create the stacked bar chart\nfig = px.bar(\n    grouped_data,\n    x='DIAGNOSIS',\n    y='count',\n    color='DV_READMIT_FLAG',\n    title='Number of Rows for Each Diagnosis, Grouped by Readmissions Flag',\n    barmode='stack'\n)\n\nst.plotly_chart(fig, use_container_width=True)",
   "execution_count": null
  },
  {
   "cell_type": "markdown",
   "id": "84261cd2-bd0f-4e04-9c68-60a0e7b6e08e",
   "metadata": {
    "name": "cell6",
    "collapsed": false,
    "resultHeight": 46
   },
   "source": "### Engineer feature to fix missing values and skewness and encode categorical variables"
  },
  {
   "cell_type": "code",
   "id": "0fefb48a-f972-4923-93da-b8399e1ae2f0",
   "metadata": {
    "language": "python",
    "name": "cell3",
    "resultHeight": 239,
    "collapsed": false
   },
   "outputs": [],
   "source": "from snowflake.ml.modeling.impute import SimpleImputer\n\nimputer = SimpleImputer(missing_values=None, strategy='constant', fill_value=0, input_cols='SBUX_COUNT', output_cols='SBUX_COUNT_IMP')\nimputed_df = imputer.fit(readmissions_df).transform(readmissions_df)\n\nimputed_df.show(5)",
   "execution_count": null
  },
  {
   "cell_type": "code",
   "id": "95b3549a-ff89-4396-9418-124144305d4c",
   "metadata": {
    "language": "python",
    "name": "cell4",
    "collapsed": false,
    "resultHeight": 569
   },
   "outputs": [],
   "source": "import snowflake.ml.modeling.preprocessing as snowml\nfrom snowflake.snowpark.types import DecimalType\n\n\n# Normalize the LENGTH_OF_STAY column\nsnowml_mms = snowml.MinMaxScaler(input_cols=[\"LENGTH_OF_STAY\"], output_cols=[\"LENGTH_OF_STAY_NORM\"])\nnormalized_df = snowml_mms.fit(imputed_df).transform(imputed_df)\n\n# Reduce the number of decimals\nnew_col = normalized_df.col(\"LENGTH_OF_STAY_NORM\").cast(DecimalType(7, 6))\nnormalized_df = normalized_df.with_column(\"LENGTH_OF_STAY_NORM\", new_col)\n\nst.subheader(f'Histogram for LENGTH_OF_STAY_NORM')\nfig = px.histogram(normalized_df, x='LENGTH_OF_STAY_NORM', title=f'Histogram of LENGTH_OF_STAY_NORM', \n                nbins=10, opacity=0.75)\nfig.update_layout(width=700, height=500)  \nst.plotly_chart(fig, use_container_width=False)  ",
   "execution_count": null
  },
  {
   "cell_type": "code",
   "id": "6b454b43-42ab-47e8-9486-2be7ed820e69",
   "metadata": {
    "language": "python",
    "name": "cell8",
    "resultHeight": 439,
    "collapsed": false
   },
   "outputs": [],
   "source": "#one hot encoding of categorical variables\nimport snowflake.ml.modeling.preprocessing as snowml\n\ninputs = ['DIAGNOSIS', 'PATIENT_GENDER', 'MARITAL_STATUS', 'HIGH_NA_AT_DISCHARGE']\noutputs = ['DIAGNOSIS_OHE', 'PATIENT_GENDER_OHE', 'MARITAL_STATUS_OHE', 'HIGH_NA_AT_DISCHARGE_OHE']\n\nsnowml_ohe = snowml.OneHotEncoder(input_cols=inputs,\n                                output_cols=outputs)\nohe_df = snowml_ohe.fit(normalized_df).transform(normalized_df)\n\nnp.array(ohe_df.columns)",
   "execution_count": null
  },
  {
   "cell_type": "markdown",
   "id": "defacfaf-b593-4914-9e34-2b53ea39a0e2",
   "metadata": {
    "name": "cell39",
    "collapsed": false,
    "resultHeight": 46
   },
   "source": "### Save preprocessing steps as pipeline for future use on new data"
  },
  {
   "cell_type": "code",
   "id": "92641fb9-fded-42c7-9e99-484bb894c02f",
   "metadata": {
    "language": "python",
    "name": "cell9",
    "resultHeight": 439,
    "collapsed": false
   },
   "outputs": [],
   "source": "# Build the preprocessing pipeline for reuse\nfrom snowflake.ml.modeling.pipeline import Pipeline\nimport joblib\n\n\npreprocessing_pipeline = Pipeline(\n    steps=[\n            (\n                \"IMP\",\n                SimpleImputer(\n                    missing_values=None, \n                    strategy='constant', \n                    fill_value=0,\n                    input_cols=\"SBUX_COUNT\",\n                    output_cols=\"SBUX_COUNT_IMP\"\n                )\n            ),\n            (\"OHE\",\n                snowml.OneHotEncoder(\n                    input_cols=[\"DIAGNOSIS\", \"PATIENT_GENDER\", \"MARITAL_STATUS\", \"HIGH_NA_AT_DISCHARGE\"],\n                    output_cols=[\"DIAGNOSIS_OHE\", \"PATIENT_GENDER_OHE\", \"MARITAL_STATUS_OHE\", \"HIGH_NA_AT_DISCHARGE_OHE\"]\n                )\n            ),\n            (\n                \"MMS\",\n                snowml.MinMaxScaler(\n                    input_cols=[\"LENGTH_OF_STAY\"], \n                    output_cols=[\"LENGTH_OF_STAY_NORM\"]                \n                )\n            )        \n    ]\n)\n\nPIPELINE_FILE = '/tmp/preprocessing_pipeline.joblib'\njoblib.dump(preprocessing_pipeline, PIPELINE_FILE) # We are just pickling it locally first\n\ntransformed_readmissions = preprocessing_pipeline.fit(readmissions_df).transform(readmissions_df)\nnp.array(transformed_readmissions.columns)",
   "execution_count": null
  },
  {
   "cell_type": "markdown",
   "source": "### Save modeling dataframe as a table in Snowflake\n\n",
   "metadata": {
    "name": "cell24",
    "resultHeight": 46
   },
   "id": "ce110000-1111-2222-3333-ffffff000023"
  },
  {
   "cell_type": "code",
   "source": "transformed_readmissions.write.mode(\"overwrite\").save_as_table(\"analytics.readmit.readmissions_modeling\")\nmodeling_df = session.table(\"readmissions_modeling\")\nmodeling_df.show()",
   "metadata": {
    "name": "cell25",
    "language": "python",
    "resultHeight": 351,
    "collapsed": false
   },
   "execution_count": null,
   "outputs": [],
   "id": "ce110000-1111-2222-3333-ffffff000024"
  },
  {
   "cell_type": "markdown",
   "source": "### Define and train XG Boost Classifier using SciKitLearn syntax that is 100% pushed down to Snowflake\n\n",
   "metadata": {
    "name": "cell26",
    "resultHeight": 46
   },
   "id": "ce110000-1111-2222-3333-ffffff000025"
  },
  {
   "cell_type": "code",
   "source": "from snowflake.ml.modeling.xgboost import XGBClassifier\n\n#Train/test split\nreadmits_train_df, readmits_test_df = session.table(\"readmissions_modeling\").drop('ROW').random_split(weights=[0.8, 0.2], seed=0)\n\n#Specify columns for modeling'\nfeature_cols = ['PATIENT_AGE','BMI','PRIOR_IP_ADMITS','LENGTH_OF_STAY_NORM','CHRONIC_CONDITIONS_NUMBER', 'SBUX_COUNT_IMP', \"DIAGNOSIS_OHE_AMI\", \"DIAGNOSIS_OHE_CABG\", \"DIAGNOSIS_OHE_COPD\", \"DIAGNOSIS_OHE_HF\",\"DIAGNOSIS_OHE_HIPKNEE\",\"DIAGNOSIS_OHE_PN\",\"PATIENT_GENDER_OHE_F\", \"PATIENT_GENDER_OHE_M\", \"MARITAL_STATUS_OHE_N\", \"MARITAL_STATUS_OHE_Y\", \"HIGH_NA_AT_DISCHARGE_OHE_Y\", \"HIGH_NA_AT_DISCHARGE_OHE_N\"] \ntarget_col = \"DV_READMIT_FLAG\"\noutput_col = \"PREDICTED_READMIT_FLAG\"\n\n#Create our classifier\nclassifier = XGBClassifier(\n    input_cols=feature_cols,\n    label_cols=target_col,\n    output_cols=output_col\n)\n\n# Train\nclassifier.fit(readmits_train_df)\n\n# Eval\ntrain_result = classifier.predict(readmits_train_df)\ntest_result = classifier.predict(readmits_test_df)\n\n\n# Analyze results\nresults_df = test_result[\"DV_READMIT_FLAG\", \"PREDICTED_READMIT_FLAG\"].to_pandas()\nresults_df.head()",
   "metadata": {
    "name": "cell27",
    "language": "python",
    "collapsed": false,
    "resultHeight": 252
   },
   "execution_count": null,
   "outputs": [
    {
     "data": {
      "application/vnd.hex.export+parquet": {
       "success": true,
       "exportKey": "snowflake/ecc29b29-68bc-4b89-a799-7ddadae90db9/exports/e9287242-8a24-4747-9301-22d152bf3875"
      },
      "text/html": "<div>\n<style scoped>\n    .dataframe tbody tr th:only-of-type {\n        vertical-align: middle;\n    }\n\n    .dataframe tbody tr th {\n        vertical-align: top;\n    }\n\n    .dataframe thead th {\n        text-align: right;\n    }\n</style>\n<table border=\"1\" class=\"dataframe\">\n  <thead>\n    <tr style=\"text-align: right;\">\n      <th></th>\n      <th>DV_READMIT_FLAG</th>\n      <th>PREDICTED_READMIT_FLAG</th>\n    </tr>\n  </thead>\n  <tbody>\n    <tr>\n      <th>0</th>\n      <td>0</td>\n      <td>0</td>\n    </tr>\n    <tr>\n      <th>1</th>\n      <td>0</td>\n      <td>0</td>\n    </tr>\n    <tr>\n      <th>2</th>\n      <td>0</td>\n      <td>0</td>\n    </tr>\n    <tr>\n      <th>3</th>\n      <td>1</td>\n      <td>1</td>\n    </tr>\n    <tr>\n      <th>4</th>\n      <td>1</td>\n      <td>1</td>\n    </tr>\n  </tbody>\n</table>\n</div>"
     },
     "execution_count": null,
     "metadata": {},
     "output_type": "execute_result"
    }
   ],
   "id": "ce110000-1111-2222-3333-ffffff000026"
  },
  {
   "cell_type": "markdown",
   "source": "### Inspect our results with a confusion matrix\n\n",
   "metadata": {
    "name": "cell28",
    "resultHeight": 46
   },
   "id": "ce110000-1111-2222-3333-ffffff000027"
  },
  {
   "cell_type": "code",
   "id": "42be6028-79e8-4ee1-9c68-5e13e9722260",
   "metadata": {
    "language": "python",
    "name": "cell2",
    "resultHeight": 41,
    "collapsed": false
   },
   "outputs": [],
   "source": "import matplotlib.pyplot as plt\nfrom sklearn.metrics import confusion_matrix, ConfusionMatrixDisplay\n\nactuals = results_df[\"DV_READMIT_FLAG\"].astype(str)\npredicts = results_df[\"PREDICTED_READMIT_FLAG\"].astype(str)\ncm = confusion_matrix(actuals, predicts)\n\nfig, ax = plt.subplots(figsize=(4, 4))  # Adjust the size as needed\ndisp = ConfusionMatrixDisplay(confusion_matrix=cm)\ndisp.plot(cmap='Blues', ax=ax)\n\nplt.show()",
   "execution_count": null
  },
  {
   "cell_type": "markdown",
   "id": "8db5ecb3-6faa-4aaf-a07a-605aac8c191b",
   "metadata": {
    "name": "cell11",
    "collapsed": false,
    "resultHeight": 46
   },
   "source": "### Get model statistics"
  },
  {
   "cell_type": "code",
   "id": "8b358788-c3d7-4b54-8af5-3e301c219930",
   "metadata": {
    "language": "python",
    "name": "cell33",
    "resultHeight": 60,
    "collapsed": false
   },
   "outputs": [],
   "source": "from snowflake.ml.modeling.metrics import roc_auc_score\n\ntrain_AUC = roc_auc_score(df=train_result, y_true_col_names=[\"DV_READMIT_FLAG\"], y_score_col_names=[\"PREDICTED_READMIT_FLAG\"])\ntest_AUC = roc_auc_score(df=test_result, y_true_col_names=[\"DV_READMIT_FLAG\"], y_score_col_names=[\"PREDICTED_READMIT_FLAG\"])\n\nprint(f\"Training ROC: {train_AUC} \\nTest ROC: {test_AUC}\")",
   "execution_count": null
  },
  {
   "cell_type": "markdown",
   "source": "### Hyperparameter optimization with SciKitLearn GridSearch\n\n",
   "metadata": {
    "name": "cell30",
    "resultHeight": 46
   },
   "id": "ce110000-1111-2222-3333-ffffff000029"
  },
  {
   "cell_type": "code",
   "source": "from snowflake.ml.modeling.model_selection import GridSearchCV\n\n#Specify grid search area\ngrid_search = GridSearchCV(\n    estimator=XGBClassifier(),\n    param_grid={\n        \"n_estimators\":[100, 200, 300, 400, 500],\n        \"learning_rate\":[0.01, 0.05, 0.1, 0.25, 0.5],\n    },\n    n_jobs = -1,\n    scoring=\"roc_auc\",\n    input_cols=feature_cols,\n    label_cols=target_col,\n    output_cols=output_col\n)\n\n# Train\ngrid_search.fit(readmits_train_df)\n\nimport matplotlib.pyplot as plt\nfrom IPython.display import display\n\ngs_results = grid_search.to_sklearn().cv_results_\nn_estimators_val = []\nlearning_rate_val = []\nfor param_dict in gs_results[\"params\"]:\n    n_estimators_val.append(param_dict[\"n_estimators\"])\n    learning_rate_val.append(param_dict[\"learning_rate\"])\nROC_val = gs_results[\"mean_test_score\"]\n\ngs_results_df = pd.DataFrame(data={\n    \"n_estimators\":n_estimators_val,\n    \"learning_rate\":learning_rate_val,\n    \"ROC\":ROC_val})\n\noptimal_model = grid_search.to_sklearn().best_estimator_\n\noptimal_n_estimators = grid_search.to_sklearn().best_estimator_.n_estimators\noptimal_learning_rate = grid_search.to_sklearn().best_estimator_.learning_rate\n\noptimal_roc = gs_results_df.loc[(gs_results_df['n_estimators']==optimal_n_estimators) &\n                                 (gs_results_df['learning_rate']==optimal_learning_rate), 'ROC'].values[0]\n\n\ndisplay(gs_results_df.sort_values('ROC', ascending=False).head(10))",
   "metadata": {
    "name": "cell31",
    "language": "python",
    "resultHeight": 262,
    "collapsed": false
   },
   "execution_count": null,
   "outputs": [
    {
     "data": {
      "text/plain": "<snowflake.ml.modeling.model_selection.grid_search_cv.GridSearchCV at 0x7fe7c6fd37c0>"
     },
     "execution_count": null,
     "metadata": {},
     "output_type": "execute_result"
    }
   ],
   "id": "ce110000-1111-2222-3333-ffffff000030"
  },
  {
   "cell_type": "markdown",
   "source": "### Analyze variable contributions to predictions\n\n",
   "metadata": {
    "name": "cell32",
    "resultHeight": 46,
    "collapsed": false
   },
   "id": "ce110000-1111-2222-3333-ffffff000031"
  },
  {
   "cell_type": "code",
   "source": "import shap\n\n\n# Initialize the SHAP explainer\ntest_df = readmits_test_df[feature_cols].to_pandas()\nxgb_classifier=classifier.to_xgboost()\nexplainer = shap.Explainer(xgb_classifier)\n\n# Calculate SHAP values for the test set\nshap_values = explainer(test_df)\n\n# Plot the SHAP values\nshap.summary_plot(shap_values, test_df, plot_size=0.3)",
   "metadata": {
    "name": "cell35",
    "language": "python",
    "resultHeight": 779,
    "collapsed": false
   },
   "execution_count": null,
   "outputs": [
    {
     "data": {
      "text/html": "<style>#sk-container-id-4 {color: black;background-color: white;}#sk-container-id-4 pre{padding: 0;}#sk-container-id-4 div.sk-toggleable {background-color: white;}#sk-container-id-4 label.sk-toggleable__label {cursor: pointer;display: block;width: 100%;margin-bottom: 0;padding: 0.3em;box-sizing: border-box;text-align: center;}#sk-container-id-4 label.sk-toggleable__label-arrow:before {content: \"▸\";float: left;margin-right: 0.25em;color: #696969;}#sk-container-id-4 label.sk-toggleable__label-arrow:hover:before {color: black;}#sk-container-id-4 div.sk-estimator:hover label.sk-toggleable__label-arrow:before {color: black;}#sk-container-id-4 div.sk-toggleable__content {max-height: 0;max-width: 0;overflow: hidden;text-align: left;background-color: #f0f8ff;}#sk-container-id-4 div.sk-toggleable__content pre {margin: 0.2em;color: black;border-radius: 0.25em;background-color: #f0f8ff;}#sk-container-id-4 input.sk-toggleable__control:checked~div.sk-toggleable__content {max-height: 200px;max-width: 100%;overflow: auto;}#sk-container-id-4 input.sk-toggleable__control:checked~label.sk-toggleable__label-arrow:before {content: \"▾\";}#sk-container-id-4 div.sk-estimator input.sk-toggleable__control:checked~label.sk-toggleable__label {background-color: #d4ebff;}#sk-container-id-4 div.sk-label input.sk-toggleable__control:checked~label.sk-toggleable__label {background-color: #d4ebff;}#sk-container-id-4 input.sk-hidden--visually {border: 0;clip: rect(1px 1px 1px 1px);clip: rect(1px, 1px, 1px, 1px);height: 1px;margin: -1px;overflow: hidden;padding: 0;position: absolute;width: 1px;}#sk-container-id-4 div.sk-estimator {font-family: monospace;background-color: #f0f8ff;border: 1px dotted black;border-radius: 0.25em;box-sizing: border-box;margin-bottom: 0.5em;}#sk-container-id-4 div.sk-estimator:hover {background-color: #d4ebff;}#sk-container-id-4 div.sk-parallel-item::after {content: \"\";width: 100%;border-bottom: 1px solid gray;flex-grow: 1;}#sk-container-id-4 div.sk-label:hover label.sk-toggleable__label {background-color: #d4ebff;}#sk-container-id-4 div.sk-serial::before {content: \"\";position: absolute;border-left: 1px solid gray;box-sizing: border-box;top: 0;bottom: 0;left: 50%;z-index: 0;}#sk-container-id-4 div.sk-serial {display: flex;flex-direction: column;align-items: center;background-color: white;padding-right: 0.2em;padding-left: 0.2em;position: relative;}#sk-container-id-4 div.sk-item {position: relative;z-index: 1;}#sk-container-id-4 div.sk-parallel {display: flex;align-items: stretch;justify-content: center;background-color: white;position: relative;}#sk-container-id-4 div.sk-item::before, #sk-container-id-4 div.sk-parallel-item::before {content: \"\";position: absolute;border-left: 1px solid gray;box-sizing: border-box;top: 0;bottom: 0;left: 50%;z-index: -1;}#sk-container-id-4 div.sk-parallel-item {display: flex;flex-direction: column;z-index: 1;position: relative;background-color: white;}#sk-container-id-4 div.sk-parallel-item:first-child::after {align-self: flex-end;width: 50%;}#sk-container-id-4 div.sk-parallel-item:last-child::after {align-self: flex-start;width: 50%;}#sk-container-id-4 div.sk-parallel-item:only-child::after {width: 0;}#sk-container-id-4 div.sk-dashed-wrapped {border: 1px dashed gray;margin: 0 0.4em 0.5em 0.4em;box-sizing: border-box;padding-bottom: 0.4em;background-color: white;}#sk-container-id-4 div.sk-label label {font-family: monospace;font-weight: bold;display: inline-block;line-height: 1.2em;}#sk-container-id-4 div.sk-label-container {text-align: center;}#sk-container-id-4 div.sk-container {/* jupyter's `normalize.less` sets `[hidden] { display: none; }` but bootstrap.min.css set `[hidden] { display: none !important; }` so we also need the `!important` here to be able to override the default hidden behavior on the sphinx rendered scikit-learn.org. See: https://github.com/scikit-learn/scikit-learn/issues/21755 */display: inline-block !important;position: relative;}#sk-container-id-4 div.sk-text-repr-fallback {display: none;}</style><div id=\"sk-container-id-4\" class=\"sk-top-container\"><div class=\"sk-text-repr-fallback\"><pre>XGBClassifier(base_score=None, booster=None, callbacks=None,\n              colsample_bylevel=None, colsample_bynode=None,\n              colsample_bytree=None, early_stopping_rounds=None,\n              enable_categorical=False, eval_metric=None, feature_types=None,\n              gamma=None, gpu_id=None, grow_policy=None, importance_type=None,\n              interaction_constraints=None, learning_rate=0.01, max_bin=None,\n              max_cat_threshold=None, max_cat_to_onehot=None,\n              max_delta_step=None, max_depth=None, max_leaves=None,\n              min_child_weight=None, missing=nan, monotone_constraints=None,\n              n_estimators=500, n_jobs=None, num_parallel_tree=None,\n              predictor=None, random_state=None, ...)</pre><b>In a Jupyter environment, please rerun this cell to show the HTML representation or trust the notebook. <br />On GitHub, the HTML representation is unable to render, please try loading this page with nbviewer.org.</b></div><div class=\"sk-container\" hidden><div class=\"sk-item\"><div class=\"sk-estimator sk-toggleable\"><input class=\"sk-toggleable__control sk-hidden--visually\" id=\"sk-estimator-id-4\" type=\"checkbox\" checked><label for=\"sk-estimator-id-4\" class=\"sk-toggleable__label sk-toggleable__label-arrow\">XGBClassifier</label><div class=\"sk-toggleable__content\"><pre>XGBClassifier(base_score=None, booster=None, callbacks=None,\n              colsample_bylevel=None, colsample_bynode=None,\n              colsample_bytree=None, early_stopping_rounds=None,\n              enable_categorical=False, eval_metric=None, feature_types=None,\n              gamma=None, gpu_id=None, grow_policy=None, importance_type=None,\n              interaction_constraints=None, learning_rate=0.01, max_bin=None,\n              max_cat_threshold=None, max_cat_to_onehot=None,\n              max_delta_step=None, max_depth=None, max_leaves=None,\n              min_child_weight=None, missing=nan, monotone_constraints=None,\n              n_estimators=500, n_jobs=None, num_parallel_tree=None,\n              predictor=None, random_state=None, ...)</pre></div></div></div></div></div>"
     },
     "execution_count": null,
     "metadata": {},
     "output_type": "execute_result"
    }
   ],
   "id": "ce110000-1111-2222-3333-ffffff000034"
  },
  {
   "cell_type": "markdown",
   "source": "### Create the registry where our model will reside in deployment\n\n",
   "metadata": {
    "name": "cell36",
    "resultHeight": 46
   },
   "id": "ce110000-1111-2222-3333-ffffff000035"
  },
  {
   "cell_type": "code",
   "source": "from snowflake.ml._internal.utils import identifier\nfrom snowflake.ml.registry import Registry\n\n\n# Get sample input data to pass into the registry logging function\nsession.sql(\"drop model if exists readmissions_classifier\").collect()\n\nsample_data =readmits_test_df[feature_cols].limit(1000)\n\ndb = identifier._get_unescaped_name(session.get_current_database())\nschema = identifier._get_unescaped_name(session.get_current_schema())\n\n# Define model name\nmodel_name = \"readmissions_classifier\"\n\n# Create a registry and log the model\nnative_registry = Registry(session=session, database_name=db, schema_name=schema)\n\n# Let's first log the very first model we trained\nmodel_ver = native_registry.log_model(\n    model_name=model_name,\n    version_name='V0',\n    model=classifier,\n    sample_input_data=sample_data, # to provide the feature schema\n)\n\n# Add evaluation metric\nmodel_ver.set_metric(metric_name='ROC', value=test_AUC)\n\n# Add a description\nmodel_ver.comment = \"This is the first iteration of our Readmissions Prediction model. It is used for demo purposes.\"\n\n# Now, let's log the optimal model from GridSearchCV\nmodel_ver2 = native_registry.log_model(\n    model_name=model_name,\n    version_name='V1',\n    model=optimal_model,\n    sample_input_data=sample_data, # to provide the feature schema\n)\n\n# Add evaluation metric\nmodel_ver2.set_metric(metric_name='ROC', value=optimal_roc)\n# Add a description\nmodel_ver2.comment = \"This is the second iteration of our Readmissions Prediction model \\\n                        where we performed hyperparameter optimization. \\\n                        It is used for demo purposes.\"\n\nnative_registry.get_model(model_name).show_versions()",
   "metadata": {
    "name": "cell37",
    "language": "python",
    "resultHeight": 146,
    "collapsed": false
   },
   "execution_count": null,
   "outputs": [],
   "id": "ce110000-1111-2222-3333-ffffff000036"
  },
  {
   "cell_type": "markdown",
   "source": "### Predict on new data\n\n",
   "metadata": {
    "name": "cell52",
    "resultHeight": 46,
    "collapsed": false
   },
   "id": "ce110000-1111-2222-3333-ffffff000051"
  },
  {
   "cell_type": "code",
   "id": "0f80ec81-3dc2-4271-a12b-75b2ac6a0fb6",
   "metadata": {
    "language": "python",
    "name": "cell29",
    "resultHeight": 351,
    "collapsed": false
   },
   "outputs": [],
   "source": "new_patients_df = session.table(\"NEW_PATIENTS_ENRICHED\").drop(\"ADMIT_DATE\")\nnew_patients_df.show(n=10)",
   "execution_count": null
  },
  {
   "cell_type": "markdown",
   "id": "5709e42f-9877-4427-bb10-9918b720935d",
   "metadata": {
    "name": "cell38",
    "collapsed": false,
    "resultHeight": 46
   },
   "source": "### Apply preprocessing to new data and make predictions"
  },
  {
   "cell_type": "code",
   "id": "ce65898e-901c-45a5-b656-04da02ecf2ff",
   "metadata": {
    "language": "python",
    "name": "cell41",
    "resultHeight": 351,
    "collapsed": false
   },
   "outputs": [],
   "source": "transformed_new_patients_df = preprocessing_pipeline.fit_transform(new_patients_df)\ntransformed_new_patients_df.show()",
   "execution_count": null
  },
  {
   "cell_type": "code",
   "id": "a303fbd8-f554-4d3a-8427-4933179901c3",
   "metadata": {
    "language": "python",
    "name": "cell34",
    "resultHeight": 351,
    "collapsed": false
   },
   "outputs": [],
   "source": "transformed_new_patients_df = preprocessing_pipeline.fit(new_patients_df).transform(new_patients_df)\ntransformed_new_patients_df.write.mode(\"overwrite\").save_as_table(\"analytics.readmit.new_patients_transformed_pipeline\")\nmodel_ver = native_registry.get_model(model_name).version('v1')\npredictions_df = model_ver.run(transformed_new_patients_df, function_name=\"predict\")\npredictions_df.show()",
   "execution_count": null
  },
  {
   "cell_type": "code",
   "source": "df = predictions_df.to_pandas()\n\noutcome_counts = predictions_df.to_pandas()[\"output_feature_0\"].value_counts().sort_index()\nst.bar_chart(outcome_counts)",
   "metadata": {
    "name": "cell53",
    "language": "python",
    "resultHeight": 372,
    "collapsed": false
   },
   "execution_count": null,
   "outputs": [
    {
     "data": {
      "text/plain": "---------------------------------------------------------------------------------------------------------------------------------------------------------------------------------------------------------------------\n|\"DV_READMIT_FLAG\"  |\"HOSPITAL_NAME\"       |\"HOSPITAL_LAT\"  |\"HOSPITAL_LONG\"  |\"PATIENT_AGE\"  |\"BMI\"  |\"LENGTH_OF_STAY\"  |\"ORDER_SET_USED\"  |\"CHRONIC_CONDITIONS_NUMBER\"  |\"SBUX_COUNT\"  |\"PREDICTED_READMIT_FLAG\"  |\n---------------------------------------------------------------------------------------------------------------------------------------------------------------------------------------------------------------------\n|0                  |OCEAN MEDICAL CENTER  |NULL            |NULL             |52             |28.4   |3                 |0                 |2                            |0             |0                         |\n|0                  |OCEAN MEDICAL CENTER  |NULL            |NULL             |56             |23.2   |3                 |1                 |2                            |0             |0                         |\n|1                  |OCEAN MEDICAL CENTER  |NULL            |NULL             |69             |24.6   |8                 |0                 |2                            |0             |0                         |\n|0                  |OCEAN MEDICAL CENTER  |NULL            |NULL             |42             |19.9   |3                 |0                 |2                            |0             |0                         |\n|1                  |OCEAN MEDICAL CENTER  |NULL            |NULL             |64             |23.4   |6                 |0                 |3                            |0             |1                         |\n|0                  |OCEAN MEDICAL CENTER  |NULL            |NULL             |68             |25.0   |2                 |1                 |3                            |0             |1                         |\n|0                  |OCEAN MEDICAL CENTER  |NULL            |NULL             |52             |30.7   |2                 |0                 |2                            |0             |0                         |\n|0                  |OCEAN MEDICAL CENTER  |NULL            |NULL             |47             |24.4   |2                 |0                 |2                            |0             |0                         |\n|0                  |OCEAN MEDICAL CENTER  |NULL            |NULL             |41             |26.4   |2                 |1                 |2                            |0             |0                         |\n|0                  |OCEAN MEDICAL CENTER  |NULL            |NULL             |57             |23.1   |3                 |0                 |2                            |0             |0                         |\n---------------------------------------------------------------------------------------------------------------------------------------------------------------------------------------------------------------------\n\n"
     },
     "execution_count": null,
     "metadata": {},
     "output_type": "execute_result"
    }
   ],
   "id": "ce110000-1111-2222-3333-ffffff000052"
  },
  {
   "cell_type": "markdown",
   "source": "### Visualize on a map\n\n",
   "metadata": {
    "name": "cell56",
    "resultHeight": 46
   },
   "id": "ce110000-1111-2222-3333-ffffff000055"
  },
  {
   "cell_type": "code",
   "id": "ec945746-87a0-4a6f-9465-f5451505558f",
   "metadata": {
    "language": "python",
    "name": "cell42",
    "collapsed": false,
    "resultHeight": 523
   },
   "outputs": [],
   "source": "from snowflake.snowpark import functions as f\npred_map_df = predictions_df.filter(f.col(\"HOSPITAL_LAT\").isNotNull()).filter(f.col('HOSPITAL_LONG').isNotNull()).groupBy(\"HOSPITAL_NAME\", \"HOSPITAL_LAT\", \"HOSPITAL_LONG\").agg(F.sum('\"output_feature_0\"').alias(\"TOTAL_PRED_READMITS\")).to_pandas()\n\n\nst.map(pred_map_df, latitude=\"HOSPITAL_LAT\", longitude=\"HOSPITAL_LONG\")\n",
   "execution_count": null
  },
  {
   "cell_type": "code",
   "id": "99a79b95-eed6-463f-bf60-98f5aaeab6dd",
   "metadata": {
    "language": "sql",
    "name": "cell40",
    "collapsed": false,
    "resultHeight": 111
   },
   "outputs": [],
   "source": "alter warehouse datasci_wh suspend;",
   "execution_count": null
  },
  {
   "cell_type": "code",
   "source": "session.close()",
   "metadata": {
    "name": "cell58",
    "language": "python",
    "resultHeight": 0
   },
   "execution_count": null,
   "outputs": [],
   "id": "ce110000-1111-2222-3333-ffffff000057"
  }
 ]
}
